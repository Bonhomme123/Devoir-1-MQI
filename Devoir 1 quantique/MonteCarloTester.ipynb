{
 "cells": [
  {
   "cell_type": "markdown",
   "metadata": {},
   "source": [
    "# Minitest 2018 \\#1a\\)"
   ]
  },
  {
   "cell_type": "code",
   "execution_count": 3,
   "metadata": {},
   "outputs": [
    {
     "data": {
      "text/plain": [
       "0.88306"
      ]
     },
     "execution_count": 3,
     "metadata": {},
     "output_type": "execute_result"
    }
   ],
   "source": [
    "import numpy as np\n",
    "jeu = []\n",
    "for i in range(13):\n",
    "    for j in range(4):\n",
    "        jeu.append([i+1, j+1])\n",
    "\n",
    "jeu = np.array(jeu)\n",
    "\n",
    "N = 100000\n",
    "count = 0\n",
    "for i in range(N):\n",
    "    jeu2 = jeu.copy()\n",
    "    np.random.shuffle(jeu2)\n",
    "\n",
    "    main = []\n",
    "    for j in range(7):\n",
    "        main.append(jeu2[j])\n",
    "\n",
    "    main = np.array(main)\n",
    "    #if len(np.unique(main[:,1])) == 4:\n",
    "    if (np.max(main[:,1])) == 4:\n",
    "        count += 1\n",
    "\n",
    "count/N\n",
    "\n"
   ]
  },
  {
   "cell_type": "code",
   "execution_count": 4,
   "metadata": {},
   "outputs": [
    {
     "data": {
      "text/plain": [
       "0.26471"
      ]
     },
     "execution_count": 4,
     "metadata": {},
     "output_type": "execute_result"
    }
   ],
   "source": [
    "import numpy as np\n",
    "jeu = []\n",
    "for i in range(13):\n",
    "    for j in range(4):\n",
    "        jeu.append([i+1, j+1])\n",
    "\n",
    "jeu = np.array(jeu)\n",
    "\n",
    "N = 100000\n",
    "count = 0\n",
    "for i in range(N):\n",
    "    jeu2 = jeu.copy()\n",
    "    np.random.shuffle(jeu2)\n",
    "\n",
    "    main = []\n",
    "    for j in range(5):\n",
    "        main.append(jeu2[j])\n",
    "\n",
    "    main = np.array(main)\n",
    "    if len(np.unique(main[:,1])) == 4:\n",
    "        count += 1\n",
    "\n",
    "count/N\n"
   ]
  },
  {
   "cell_type": "markdown",
   "metadata": {},
   "source": [
    "# test 2022#2b"
   ]
  },
  {
   "cell_type": "code",
   "execution_count": 10,
   "metadata": {},
   "outputs": [
    {
     "data": {
      "text/plain": [
       "0.351847"
      ]
     },
     "execution_count": 10,
     "metadata": {},
     "output_type": "execute_result"
    }
   ],
   "source": [
    "boules = np.arange(1, 51, 1)\n",
    "\n",
    "N=1000000\n",
    "count = 0\n",
    "for i in range(N):\n",
    "    boules2 = boules.copy()\n",
    "    np.random.shuffle(boules2)\n",
    "    ahmed = boules2[:5]\n",
    "    \n",
    "    boules2 = boules.copy()\n",
    "    np.random.shuffle(boules2)\n",
    "    zach = boules2[:5]\n",
    "\n",
    "    Total = np.hstack((zach, ahmed))\n",
    "\n",
    "    if len(np.unique(Total)) == 9:\n",
    "        count += 1\n",
    "\n",
    "\n",
    "count/N\n",
    "\n",
    "\n"
   ]
  },
  {
   "cell_type": "code",
   "execution_count": 34,
   "metadata": {},
   "outputs": [
    {
     "data": {
      "text/plain": [
       "0.01073"
      ]
     },
     "execution_count": 34,
     "metadata": {},
     "output_type": "execute_result"
    }
   ],
   "source": [
    "import numpy as np\n",
    "jeu = []\n",
    "for i in range(13):\n",
    "    for j in range(4):\n",
    "        jeu.append([i+1, j+1])\n",
    "\n",
    "jeu = np.array(jeu)\n",
    "\n",
    "N = 100000\n",
    "count = 0\n",
    "for i in range(N):\n",
    "    jeu2 = jeu.copy()\n",
    "    np.random.shuffle(jeu2)\n",
    "\n",
    "    main = jeu2[:13, 0]\n",
    "\n",
    "    main2 = jeu2[13: 26, 0]\n",
    "\n",
    "    main3 = jeu2[26: 39, 0]\n",
    "\n",
    "    main4 = jeu2[39:, 0]\n",
    "    \n",
    "    if len(main[main==13])== 4:\n",
    "        count += 1\n",
    "\n",
    "    elif len(main2[main2==13])== 4:\n",
    "        count += 1\n",
    "    elif len(main3[main3==13])== 4:\n",
    "        count += 1\n",
    "    elif len(main4[main4==13])== 4:\n",
    "        count += 1\n",
    "\n",
    "count/N\n",
    "\n"
   ]
  },
  {
   "cell_type": "code",
   "execution_count": 30,
   "metadata": {},
   "outputs": [
    {
     "data": {
      "text/plain": [
       "4"
      ]
     },
     "execution_count": 30,
     "metadata": {},
     "output_type": "execute_result"
    }
   ],
   "source": [
    "test = jeu[:10,0]\n",
    "len(test[test==1])"
   ]
  },
  {
   "cell_type": "code",
   "execution_count": 31,
   "metadata": {},
   "outputs": [
    {
     "data": {
      "text/plain": [
       "(13, 13, 13, 13)"
      ]
     },
     "execution_count": 31,
     "metadata": {},
     "output_type": "execute_result"
    }
   ],
   "source": [
    "len(main), len(main2), len(main3), len(main4)"
   ]
  },
  {
   "cell_type": "code",
   "execution_count": 118,
   "metadata": {},
   "outputs": [
    {
     "data": {
      "text/plain": [
       "(array([[1., 0., 0.],\n",
       "        [1., 0., 0.],\n",
       "        [1., 0., 0.]]),\n",
       " 0,\n",
       " 99999,\n",
       " 1.0)"
      ]
     },
     "execution_count": 118,
     "metadata": {},
     "output_type": "execute_result"
    }
   ],
   "source": [
    "import numpy as np\n",
    "N = 100000\n",
    "\n",
    "for i in range(N):\n",
    "    n = np.random.randint(1, 10)\n",
    "    n=3\n",
    "    grid = np.zeros((n, n))\n",
    "    flatGrid = np.ravel(grid)\n",
    "    index = np.arange(0, n**2)\n",
    "    np.random.shuffle(index)\n",
    "    index = index[: n]\n",
    "\n",
    "    for ind in index:\n",
    "        flatGrid[ind] = 1\n",
    "    \n",
    "    grid = flatGrid.reshape(n,n)\n",
    "    \n",
    "    isOk = 0\n",
    "\n",
    "    grid = grid.T\n",
    "    for line in grid:\n",
    "        sum = np.sum(line)\n",
    "        if sum == n:\n",
    "            isOk == 1\n",
    "\n",
    "        elif sum == 0:\n",
    "            break\n",
    "\n",
    "\n",
    "    if isOk == 1:\n",
    "        break\n",
    "\n",
    "\n",
    "\n",
    "grid, isOk,i, sum\n"
   ]
  },
  {
   "cell_type": "code",
   "execution_count": 97,
   "metadata": {},
   "outputs": [
    {
     "data": {
      "text/plain": [
       "1521"
      ]
     },
     "execution_count": 97,
     "metadata": {},
     "output_type": "execute_result"
    }
   ],
   "source": [
    "39**2"
   ]
  },
  {
   "cell_type": "code",
   "execution_count": 49,
   "metadata": {},
   "outputs": [
    {
     "data": {
      "text/plain": [
       "(array([[0., 0., 1.],\n",
       "        [0., 1., 0.],\n",
       "        [0., 0., 1.]]),\n",
       " array([[0., 0., 0.],\n",
       "        [0., 1., 0.],\n",
       "        [1., 0., 1.]]))"
      ]
     },
     "execution_count": 49,
     "metadata": {},
     "output_type": "execute_result"
    }
   ],
   "source": [
    "grid, grid.T\n"
   ]
  },
  {
   "cell_type": "code",
   "execution_count": 34,
   "metadata": {},
   "outputs": [
    {
     "data": {
      "text/plain": [
       "array([ 315.10204082,  376.12244898,  437.14285714,  498.16326531,\n",
       "        559.18367347,  620.20408163,  681.2244898 ,  742.24489796,\n",
       "        803.26530612,  864.28571429,  925.30612245,  986.32653061,\n",
       "       1047.34693878, 1108.36734694, 1169.3877551 , 1230.40816327,\n",
       "       1291.42857143, 1352.44897959, 1413.46938776, 1474.48979592,\n",
       "       1535.51020408, 1596.53061224, 1657.55102041, 1718.57142857,\n",
       "       1779.59183673, 1840.6122449 , 1901.63265306, 1962.65306122,\n",
       "       2023.67346939, 2084.69387755, 2145.71428571, 2206.73469388,\n",
       "       2267.75510204, 2328.7755102 , 2389.79591837, 2450.81632653,\n",
       "       2511.83673469, 2572.85714286, 2633.87755102, 2694.89795918,\n",
       "       2755.91836735, 2816.93877551, 2877.95918367, 2938.97959184,\n",
       "       3000.        ])"
      ]
     },
     "execution_count": 34,
     "metadata": {},
     "output_type": "execute_result"
    },
    {
     "data": {
      "image/png": "[encoded data removed]",
      "text/plain": [
       "<Figure size 640x480 with 1 Axes>"
      ]
     },
     "metadata": {},
     "output_type": "display_data"
    }
   ],
   "source": [
    "import numpy as np\n",
    "import matplotlib.pyplot as plt\n",
    "\n",
    "rpm = np.linspace(10, 3000)\n",
    "\n",
    "kb = 48 / 3000\n",
    "\n",
    "V = kb*rpm\n",
    "\n",
    "for r in range(1):\n",
    "    r = 0.2\n",
    "    I = V/r\n",
    "\n",
    "    dutyCycle = 25/I #+ rpm/3000-1\n",
    "\n",
    "    #plt.plot(rpm,I)\n",
    "    #plt.show()\n",
    "    plt.plot(rpm[dutyCycle<1], dutyCycle[dutyCycle<1], label = f'{r:.1f}')\n",
    "plt.legend()\n",
    "\n",
    "rpm[dutyCycle<1]"
   ]
  },
  {
   "cell_type": "code",
   "execution_count": 39,
   "metadata": {},
   "outputs": [
    {
     "data": {
      "text/plain": [
       "4.0715136"
      ]
     },
     "execution_count": 39,
     "metadata": {},
     "output_type": "execute_result"
    }
   ],
   "source": [
    "315/60*0.48*3.1416*3.6*15/105"
   ]
  },
  {
   "cell_type": "code",
   "execution_count": null,
   "metadata": {},
   "outputs": [],
   "source": []
  }
 ],
 "metadata": {
  "kernelspec": {
   "display_name": "Python 3",
   "language": "python",
   "name": "python3"
  },
  "language_info": {
   "codemirror_mode": {
    "name": "ipython",
    "version": 3
   },
   "file_extension": ".py",
   "mimetype": "text/x-python",
   "name": "python",
   "nbconvert_exporter": "python",
   "pygments_lexer": "ipython3",
   "version": "3.10.9"
  },
  "orig_nbformat": 4
 },
 "nbformat": 4,
 "nbformat_minor": 2
}
